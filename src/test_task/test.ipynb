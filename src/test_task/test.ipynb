{
 "cells": [
  {
   "cell_type": "code",
   "execution_count": 1,
   "id": "82e04df9",
   "metadata": {},
   "outputs": [],
   "source": [
    "import fitz, uuid\n",
    "from langchain.text_splitter import RecursiveCharacterTextSplitter\n",
    "from langchain_chroma import Chroma\n",
    "from langchain_huggingface import HuggingFaceEmbeddings"
   ]
  },
  {
   "cell_type": "code",
   "execution_count": 2,
   "id": "901f32f3",
   "metadata": {},
   "outputs": [],
   "source": [
    "import os\n",
    "import json"
   ]
  },
  {
   "cell_type": "code",
   "execution_count": 3,
   "id": "bbb69373",
   "metadata": {},
   "outputs": [],
   "source": [
    "def get_all_pdfs_paths(directory: str) -> list[str]:\n",
    "    file_paths = []\n",
    "    for root, _, files in os.walk(directory):\n",
    "        for file in files:\n",
    "            if file.lower().endswith('.pdf'):\n",
    "                abs_path = os.path.abspath(os.path.join(root, file))\n",
    "                file_paths.append(abs_path)\n",
    "    return file_paths"
   ]
  },
  {
   "cell_type": "code",
   "execution_count": 4,
   "id": "9562cd0f",
   "metadata": {},
   "outputs": [],
   "source": [
    "with open(\"../../domaindata/metadata.jsonl\", \"r\") as f:\n",
    "    metadata = sorted([json.loads(line) for line in f], key=lambda x: x[\"uuid\"])\n",
    "pdf_paths = sorted(get_all_pdfs_paths(\"../../domaindata\"))"
   ]
  },
  {
   "cell_type": "code",
   "execution_count": 7,
   "id": "33c026e0",
   "metadata": {},
   "outputs": [
    {
     "data": {
      "text/plain": [
       "{'uuid': '00049365-f8e1-45bb-a6bd-57df2e0be07f',\n",
       " 'title': 'Dairy Cattle and Milk Production',\n",
       " 'industries': ['Animal Production and Aquaculture',\n",
       "  'Agriculture, Forestry, Fishing and Hunting',\n",
       "  'Cattle Ranching and Farming'],\n",
       " 'date': '2024-08-31T22:00:00',\n",
       " 'country_codes': ['US']}"
      ]
     },
     "execution_count": 7,
     "metadata": {},
     "output_type": "execute_result"
    }
   ],
   "source": [
    "metadata[0]\n"
   ]
  }
 ],
 "metadata": {
  "kernelspec": {
   "display_name": "test_task",
   "language": "python",
   "name": "python3"
  },
  "language_info": {
   "codemirror_mode": {
    "name": "ipython",
    "version": 3
   },
   "file_extension": ".py",
   "mimetype": "text/x-python",
   "name": "python",
   "nbconvert_exporter": "python",
   "pygments_lexer": "ipython3",
   "version": "3.11.10"
  }
 },
 "nbformat": 4,
 "nbformat_minor": 5
}
